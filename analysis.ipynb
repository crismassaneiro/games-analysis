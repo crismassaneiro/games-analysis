{
 "cells": [
  {
   "cell_type": "code",
   "execution_count": 2,
   "metadata": {},
   "outputs": [],
   "source": [
    "import pandas as pd"
   ]
  },
  {
   "cell_type": "code",
   "execution_count": 3,
   "metadata": {},
   "outputs": [],
   "source": [
    "df = pd.read_csv(\"../games-analysis/mobile-games.csv\",sep=\",\")"
   ]
  },
  {
   "cell_type": "code",
   "execution_count": 4,
   "metadata": {},
   "outputs": [
    {
     "data": {
      "text/html": [
       "<div>\n",
       "<style scoped>\n",
       "    .dataframe tbody tr th:only-of-type {\n",
       "        vertical-align: middle;\n",
       "    }\n",
       "\n",
       "    .dataframe tbody tr th {\n",
       "        vertical-align: top;\n",
       "    }\n",
       "\n",
       "    .dataframe thead th {\n",
       "        text-align: right;\n",
       "    }\n",
       "</style>\n",
       "<table border=\"1\" class=\"dataframe\">\n",
       "  <thead>\n",
       "    <tr style=\"text-align: right;\">\n",
       "      <th></th>\n",
       "      <th>Game</th>\n",
       "      <th>Revenue</th>\n",
       "      <th>Initial release</th>\n",
       "      <th>Publisher(s)</th>\n",
       "      <th>Genre(s)</th>\n",
       "    </tr>\n",
       "  </thead>\n",
       "  <tbody>\n",
       "    <tr>\n",
       "      <th>0</th>\n",
       "      <td>Honor of Kings / Arena of Valor</td>\n",
       "      <td>14667500000</td>\n",
       "      <td>2015-11-26</td>\n",
       "      <td>Tencent Games</td>\n",
       "      <td>MOBA</td>\n",
       "    </tr>\n",
       "    <tr>\n",
       "      <th>1</th>\n",
       "      <td>Monster Strike</td>\n",
       "      <td>10000000000</td>\n",
       "      <td>2013-08-08</td>\n",
       "      <td>Mixi</td>\n",
       "      <td>Puzzle / RPG / Strategy</td>\n",
       "    </tr>\n",
       "    <tr>\n",
       "      <th>2</th>\n",
       "      <td>PUBG Mobile</td>\n",
       "      <td>9000000000</td>\n",
       "      <td>2018-03-19</td>\n",
       "      <td>Tencent Games / Krafton / VNG Games</td>\n",
       "      <td>Battle royale</td>\n",
       "    </tr>\n",
       "    <tr>\n",
       "      <th>3</th>\n",
       "      <td>Puzzle &amp; Dragons</td>\n",
       "      <td>8578340000</td>\n",
       "      <td>2012-02-20</td>\n",
       "      <td>GungHo Online Entertainment</td>\n",
       "      <td>RPG / Puzzle</td>\n",
       "    </tr>\n",
       "    <tr>\n",
       "      <th>4</th>\n",
       "      <td>Clash of Clans</td>\n",
       "      <td>8000000000</td>\n",
       "      <td>2012-08-02</td>\n",
       "      <td>Supercell (Tencent)</td>\n",
       "      <td>Strategy</td>\n",
       "    </tr>\n",
       "    <tr>\n",
       "      <th>...</th>\n",
       "      <td>...</td>\n",
       "      <td>...</td>\n",
       "      <td>...</td>\n",
       "      <td>...</td>\n",
       "      <td>...</td>\n",
       "    </tr>\n",
       "    <tr>\n",
       "      <th>99</th>\n",
       "      <td>Yahtzee With Buddies</td>\n",
       "      <td>113000000</td>\n",
       "      <td>2017-11-01</td>\n",
       "      <td>Scopely</td>\n",
       "      <td>Yahtzee</td>\n",
       "    </tr>\n",
       "    <tr>\n",
       "      <th>100</th>\n",
       "      <td>Dragon Quest Tact</td>\n",
       "      <td>111990000</td>\n",
       "      <td>2020-07-16</td>\n",
       "      <td>Square Enix</td>\n",
       "      <td>Tactical RPG</td>\n",
       "    </tr>\n",
       "    <tr>\n",
       "      <th>101</th>\n",
       "      <td>Fallout Shelter</td>\n",
       "      <td>100000000</td>\n",
       "      <td>2015-06-14</td>\n",
       "      <td>Bethesda Softworks</td>\n",
       "      <td>Simulation (CMS)</td>\n",
       "    </tr>\n",
       "    <tr>\n",
       "      <th>102</th>\n",
       "      <td>Mafia City</td>\n",
       "      <td>100000000</td>\n",
       "      <td>2017-07-25</td>\n",
       "      <td>Yotta Games</td>\n",
       "      <td>RPG</td>\n",
       "    </tr>\n",
       "    <tr>\n",
       "      <th>103</th>\n",
       "      <td>Madden NFL Overdrive</td>\n",
       "      <td>100000000</td>\n",
       "      <td>2018-08-15</td>\n",
       "      <td>EA Sports (Electronic Arts)</td>\n",
       "      <td>Sports (American football)</td>\n",
       "    </tr>\n",
       "  </tbody>\n",
       "</table>\n",
       "<p>104 rows × 5 columns</p>\n",
       "</div>"
      ],
      "text/plain": [
       "                                Game      Revenue Initial release  \\\n",
       "0    Honor of Kings / Arena of Valor  14667500000      2015-11-26   \n",
       "1                     Monster Strike  10000000000      2013-08-08   \n",
       "2                        PUBG Mobile   9000000000      2018-03-19   \n",
       "3                   Puzzle & Dragons   8578340000      2012-02-20   \n",
       "4                     Clash of Clans   8000000000      2012-08-02   \n",
       "..                               ...          ...             ...   \n",
       "99              Yahtzee With Buddies    113000000      2017-11-01   \n",
       "100                Dragon Quest Tact    111990000      2020-07-16   \n",
       "101                  Fallout Shelter    100000000      2015-06-14   \n",
       "102                       Mafia City    100000000      2017-07-25   \n",
       "103             Madden NFL Overdrive    100000000      2018-08-15   \n",
       "\n",
       "                            Publisher(s)                    Genre(s)  \n",
       "0                          Tencent Games                        MOBA  \n",
       "1                                   Mixi     Puzzle / RPG / Strategy  \n",
       "2    Tencent Games / Krafton / VNG Games               Battle royale  \n",
       "3            GungHo Online Entertainment                RPG / Puzzle  \n",
       "4                    Supercell (Tencent)                    Strategy  \n",
       "..                                   ...                         ...  \n",
       "99                               Scopely                     Yahtzee  \n",
       "100                          Square Enix                Tactical RPG  \n",
       "101                   Bethesda Softworks            Simulation (CMS)  \n",
       "102                          Yotta Games                         RPG  \n",
       "103          EA Sports (Electronic Arts)  Sports (American football)  \n",
       "\n",
       "[104 rows x 5 columns]"
      ]
     },
     "execution_count": 4,
     "metadata": {},
     "output_type": "execute_result"
    }
   ],
   "source": [
    "df"
   ]
  },
  {
   "cell_type": "code",
   "execution_count": 5,
   "metadata": {},
   "outputs": [
    {
     "data": {
      "text/plain": [
       "Game               object\n",
       "Revenue             int64\n",
       "Initial release    object\n",
       "Publisher(s)       object\n",
       "Genre(s)           object\n",
       "dtype: object"
      ]
     },
     "execution_count": 5,
     "metadata": {},
     "output_type": "execute_result"
    }
   ],
   "source": [
    "df.dtypes"
   ]
  },
  {
   "attachments": {},
   "cell_type": "markdown",
   "metadata": {},
   "source": [
    "Quantidade de Gêneros disponíveis na base"
   ]
  },
  {
   "cell_type": "code",
   "execution_count": 6,
   "metadata": {},
   "outputs": [
    {
     "data": {
      "text/plain": [
       "(48, 1)"
      ]
     },
     "execution_count": 6,
     "metadata": {},
     "output_type": "execute_result"
    }
   ],
   "source": [
    "df[[\"Genre(s)\"]].drop_duplicates().shape\n"
   ]
  },
  {
   "cell_type": "code",
   "execution_count": 7,
   "metadata": {},
   "outputs": [
    {
     "data": {
      "text/html": [
       "<div>\n",
       "<style scoped>\n",
       "    .dataframe tbody tr th:only-of-type {\n",
       "        vertical-align: middle;\n",
       "    }\n",
       "\n",
       "    .dataframe tbody tr th {\n",
       "        vertical-align: top;\n",
       "    }\n",
       "\n",
       "    .dataframe thead th {\n",
       "        text-align: right;\n",
       "    }\n",
       "</style>\n",
       "<table border=\"1\" class=\"dataframe\">\n",
       "  <thead>\n",
       "    <tr style=\"text-align: right;\">\n",
       "      <th></th>\n",
       "      <th>Genre(s)</th>\n",
       "    </tr>\n",
       "  </thead>\n",
       "  <tbody>\n",
       "    <tr>\n",
       "      <th>0</th>\n",
       "      <td>MOBA</td>\n",
       "    </tr>\n",
       "    <tr>\n",
       "      <th>1</th>\n",
       "      <td>Puzzle / RPG / Strategy</td>\n",
       "    </tr>\n",
       "    <tr>\n",
       "      <th>2</th>\n",
       "      <td>Battle royale</td>\n",
       "    </tr>\n",
       "    <tr>\n",
       "      <th>3</th>\n",
       "      <td>RPG / Puzzle</td>\n",
       "    </tr>\n",
       "    <tr>\n",
       "      <th>4</th>\n",
       "      <td>Strategy</td>\n",
       "    </tr>\n",
       "    <tr>\n",
       "      <th>5</th>\n",
       "      <td>Augmented reality</td>\n",
       "    </tr>\n",
       "    <tr>\n",
       "      <th>6</th>\n",
       "      <td>Puzzle</td>\n",
       "    </tr>\n",
       "    <tr>\n",
       "      <th>7</th>\n",
       "      <td>RPG</td>\n",
       "    </tr>\n",
       "    <tr>\n",
       "      <th>8</th>\n",
       "      <td>MMORPG</td>\n",
       "    </tr>\n",
       "    <tr>\n",
       "      <th>10</th>\n",
       "      <td>GCS / MMO</td>\n",
       "    </tr>\n",
       "    <tr>\n",
       "      <th>11</th>\n",
       "      <td>Action RPG</td>\n",
       "    </tr>\n",
       "    <tr>\n",
       "      <th>14</th>\n",
       "      <td>Casual / Casino</td>\n",
       "    </tr>\n",
       "    <tr>\n",
       "      <th>15</th>\n",
       "      <td>Real-time strategy</td>\n",
       "    </tr>\n",
       "    <tr>\n",
       "      <th>16</th>\n",
       "      <td>Puzzle / Decoration</td>\n",
       "    </tr>\n",
       "    <tr>\n",
       "      <th>18</th>\n",
       "      <td>Strategy / MMO</td>\n",
       "    </tr>\n",
       "    <tr>\n",
       "      <th>20</th>\n",
       "      <td>Sports (baseball)</td>\n",
       "    </tr>\n",
       "    <tr>\n",
       "      <th>23</th>\n",
       "      <td>Strategy (4X)</td>\n",
       "    </tr>\n",
       "    <tr>\n",
       "      <th>24</th>\n",
       "      <td>Fighting</td>\n",
       "    </tr>\n",
       "    <tr>\n",
       "      <th>27</th>\n",
       "      <td>Shooter / Battle royale</td>\n",
       "    </tr>\n",
       "    <tr>\n",
       "      <th>31</th>\n",
       "      <td>Simulation</td>\n",
       "    </tr>\n",
       "    <tr>\n",
       "      <th>33</th>\n",
       "      <td>TBS / MMO</td>\n",
       "    </tr>\n",
       "    <tr>\n",
       "      <th>40</th>\n",
       "      <td>Tactical RPG</td>\n",
       "    </tr>\n",
       "    <tr>\n",
       "      <th>41</th>\n",
       "      <td>Simulation / Social</td>\n",
       "    </tr>\n",
       "    <tr>\n",
       "      <th>42</th>\n",
       "      <td>Racing (Kart / MMOR)</td>\n",
       "    </tr>\n",
       "    <tr>\n",
       "      <th>47</th>\n",
       "      <td>Simulation (CMS)</td>\n",
       "    </tr>\n",
       "    <tr>\n",
       "      <th>52</th>\n",
       "      <td>ARPG / Hack &amp; slash</td>\n",
       "    </tr>\n",
       "    <tr>\n",
       "      <th>56</th>\n",
       "      <td>DCCG</td>\n",
       "    </tr>\n",
       "    <tr>\n",
       "      <th>57</th>\n",
       "      <td>Real Time Strategy</td>\n",
       "    </tr>\n",
       "    <tr>\n",
       "      <th>58</th>\n",
       "      <td>DCCG / Rhythm</td>\n",
       "    </tr>\n",
       "    <tr>\n",
       "      <th>60</th>\n",
       "      <td>Strategy MMORPG</td>\n",
       "    </tr>\n",
       "    <tr>\n",
       "      <th>62</th>\n",
       "      <td>Sandbox / Survival</td>\n",
       "    </tr>\n",
       "    <tr>\n",
       "      <th>63</th>\n",
       "      <td>Tactical FPS</td>\n",
       "    </tr>\n",
       "    <tr>\n",
       "      <th>65</th>\n",
       "      <td>Online Bingo</td>\n",
       "    </tr>\n",
       "    <tr>\n",
       "      <th>67</th>\n",
       "      <td>Sports (pool)</td>\n",
       "    </tr>\n",
       "    <tr>\n",
       "      <th>69</th>\n",
       "      <td>Physics / Puzzle</td>\n",
       "    </tr>\n",
       "    <tr>\n",
       "      <th>70</th>\n",
       "      <td>Sports (association football)</td>\n",
       "    </tr>\n",
       "    <tr>\n",
       "      <th>73</th>\n",
       "      <td>Digital collectible card game</td>\n",
       "    </tr>\n",
       "    <tr>\n",
       "      <th>74</th>\n",
       "      <td>Racing (Kart)</td>\n",
       "    </tr>\n",
       "    <tr>\n",
       "      <th>75</th>\n",
       "      <td>Simulation (Social)</td>\n",
       "    </tr>\n",
       "    <tr>\n",
       "      <th>84</th>\n",
       "      <td>Puzzle / RPG</td>\n",
       "    </tr>\n",
       "    <tr>\n",
       "      <th>88</th>\n",
       "      <td>Strategy (auto battler)</td>\n",
       "    </tr>\n",
       "    <tr>\n",
       "      <th>91</th>\n",
       "      <td>Puzzle / Strategy</td>\n",
       "    </tr>\n",
       "    <tr>\n",
       "      <th>92</th>\n",
       "      <td>Simulation (Slot)</td>\n",
       "    </tr>\n",
       "    <tr>\n",
       "      <th>93</th>\n",
       "      <td>Sports (basketball)</td>\n",
       "    </tr>\n",
       "    <tr>\n",
       "      <th>95</th>\n",
       "      <td>Rhythm / Adventure</td>\n",
       "    </tr>\n",
       "    <tr>\n",
       "      <th>96</th>\n",
       "      <td>Racing</td>\n",
       "    </tr>\n",
       "    <tr>\n",
       "      <th>99</th>\n",
       "      <td>Yahtzee</td>\n",
       "    </tr>\n",
       "    <tr>\n",
       "      <th>103</th>\n",
       "      <td>Sports (American football)</td>\n",
       "    </tr>\n",
       "  </tbody>\n",
       "</table>\n",
       "</div>"
      ],
      "text/plain": [
       "                          Genre(s)\n",
       "0                             MOBA\n",
       "1          Puzzle / RPG / Strategy\n",
       "2                    Battle royale\n",
       "3                     RPG / Puzzle\n",
       "4                         Strategy\n",
       "5                Augmented reality\n",
       "6                           Puzzle\n",
       "7                              RPG\n",
       "8                           MMORPG\n",
       "10                       GCS / MMO\n",
       "11                      Action RPG\n",
       "14                 Casual / Casino\n",
       "15              Real-time strategy\n",
       "16             Puzzle / Decoration\n",
       "18                  Strategy / MMO\n",
       "20               Sports (baseball)\n",
       "23                   Strategy (4X)\n",
       "24                        Fighting\n",
       "27         Shooter / Battle royale\n",
       "31                      Simulation\n",
       "33                       TBS / MMO\n",
       "40                    Tactical RPG\n",
       "41             Simulation / Social\n",
       "42            Racing (Kart / MMOR)\n",
       "47                Simulation (CMS)\n",
       "52             ARPG / Hack & slash\n",
       "56                            DCCG\n",
       "57              Real Time Strategy\n",
       "58                   DCCG / Rhythm\n",
       "60                 Strategy MMORPG\n",
       "62              Sandbox / Survival\n",
       "63                    Tactical FPS\n",
       "65                    Online Bingo\n",
       "67                   Sports (pool)\n",
       "69                Physics / Puzzle\n",
       "70   Sports (association football)\n",
       "73   Digital collectible card game\n",
       "74                   Racing (Kart)\n",
       "75             Simulation (Social)\n",
       "84                    Puzzle / RPG\n",
       "88         Strategy (auto battler)\n",
       "91               Puzzle / Strategy\n",
       "92               Simulation (Slot)\n",
       "93             Sports (basketball)\n",
       "95              Rhythm / Adventure\n",
       "96                          Racing\n",
       "99                         Yahtzee\n",
       "103     Sports (American football)"
      ]
     },
     "execution_count": 7,
     "metadata": {},
     "output_type": "execute_result"
    }
   ],
   "source": [
    "df[[\"Genre(s)\"]].drop_duplicates()"
   ]
  },
  {
   "attachments": {},
   "cell_type": "markdown",
   "metadata": {},
   "source": [
    "Análise dos Gêneros de Jogos mais vendidos"
   ]
  },
  {
   "cell_type": "code",
   "execution_count": 8,
   "metadata": {},
   "outputs": [
    {
     "data": {
      "text/plain": [
       "RPG                              12\n",
       "Strategy                          9\n",
       "Puzzle                            9\n",
       "MMORPG                            9\n",
       "MOBA                              5\n",
       "Battle royale                     4\n",
       "Action RPG                        4\n",
       "Puzzle / Decoration               3\n",
       "Strategy / MMO                    2\n",
       "Racing (Kart)                     2\n",
       "DCCG                              2\n",
       "Tactical RPG                      2\n",
       "Strategy (4X)                     2\n",
       "Sports (baseball)                 2\n",
       "Simulation (CMS)                  2\n",
       "RPG / Puzzle                      2\n",
       "Augmented reality                 2\n",
       "Real-time strategy                1\n",
       "Puzzle / RPG                      1\n",
       "Physics / Puzzle                  1\n",
       "Sports (association football)     1\n",
       "Digital collectible card game     1\n",
       "Simulation (Social)               1\n",
       "Strategy (auto battler)           1\n",
       "Online Bingo                      1\n",
       "Puzzle / Strategy                 1\n",
       "Simulation (Slot)                 1\n",
       "Sports (basketball)               1\n",
       "Rhythm / Adventure                1\n",
       "Racing                            1\n",
       "Yahtzee                           1\n",
       "Sports (pool)                     1\n",
       "Tactical FPS                      1\n",
       "Casual / Casino                   1\n",
       "Sandbox / Survival                1\n",
       "Strategy MMORPG                   1\n",
       "DCCG / Rhythm                     1\n",
       "Real Time Strategy                1\n",
       "ARPG / Hack & slash               1\n",
       "Puzzle / RPG / Strategy           1\n",
       "Racing (Kart / MMOR)              1\n",
       "Simulation / Social               1\n",
       "GCS / MMO                         1\n",
       "TBS / MMO                         1\n",
       "Simulation                        1\n",
       "Shooter / Battle royale           1\n",
       "Fighting                          1\n",
       "Sports (American football)        1\n",
       "Name: Genre(s), dtype: int64"
      ]
     },
     "execution_count": 8,
     "metadata": {},
     "output_type": "execute_result"
    }
   ],
   "source": [
    "df[\"Genre(s)\"].value_counts()"
   ]
  },
  {
   "cell_type": "code",
   "execution_count": 9,
   "metadata": {},
   "outputs": [],
   "source": [
    "genresgrouped = df[\"Genre(s)\"].value_counts().reset_index()"
   ]
  },
  {
   "cell_type": "code",
   "execution_count": 10,
   "metadata": {},
   "outputs": [
    {
     "data": {
      "text/html": [
       "<div>\n",
       "<style scoped>\n",
       "    .dataframe tbody tr th:only-of-type {\n",
       "        vertical-align: middle;\n",
       "    }\n",
       "\n",
       "    .dataframe tbody tr th {\n",
       "        vertical-align: top;\n",
       "    }\n",
       "\n",
       "    .dataframe thead th {\n",
       "        text-align: right;\n",
       "    }\n",
       "</style>\n",
       "<table border=\"1\" class=\"dataframe\">\n",
       "  <thead>\n",
       "    <tr style=\"text-align: right;\">\n",
       "      <th></th>\n",
       "      <th>index</th>\n",
       "      <th>Genre(s)</th>\n",
       "    </tr>\n",
       "  </thead>\n",
       "  <tbody>\n",
       "    <tr>\n",
       "      <th>0</th>\n",
       "      <td>RPG</td>\n",
       "      <td>12</td>\n",
       "    </tr>\n",
       "    <tr>\n",
       "      <th>1</th>\n",
       "      <td>Strategy</td>\n",
       "      <td>9</td>\n",
       "    </tr>\n",
       "    <tr>\n",
       "      <th>2</th>\n",
       "      <td>Puzzle</td>\n",
       "      <td>9</td>\n",
       "    </tr>\n",
       "    <tr>\n",
       "      <th>3</th>\n",
       "      <td>MMORPG</td>\n",
       "      <td>9</td>\n",
       "    </tr>\n",
       "    <tr>\n",
       "      <th>4</th>\n",
       "      <td>MOBA</td>\n",
       "      <td>5</td>\n",
       "    </tr>\n",
       "    <tr>\n",
       "      <th>5</th>\n",
       "      <td>Battle royale</td>\n",
       "      <td>4</td>\n",
       "    </tr>\n",
       "    <tr>\n",
       "      <th>6</th>\n",
       "      <td>Action RPG</td>\n",
       "      <td>4</td>\n",
       "    </tr>\n",
       "    <tr>\n",
       "      <th>7</th>\n",
       "      <td>Puzzle / Decoration</td>\n",
       "      <td>3</td>\n",
       "    </tr>\n",
       "    <tr>\n",
       "      <th>8</th>\n",
       "      <td>Strategy / MMO</td>\n",
       "      <td>2</td>\n",
       "    </tr>\n",
       "    <tr>\n",
       "      <th>9</th>\n",
       "      <td>Racing (Kart)</td>\n",
       "      <td>2</td>\n",
       "    </tr>\n",
       "    <tr>\n",
       "      <th>10</th>\n",
       "      <td>DCCG</td>\n",
       "      <td>2</td>\n",
       "    </tr>\n",
       "    <tr>\n",
       "      <th>11</th>\n",
       "      <td>Tactical RPG</td>\n",
       "      <td>2</td>\n",
       "    </tr>\n",
       "    <tr>\n",
       "      <th>12</th>\n",
       "      <td>Strategy (4X)</td>\n",
       "      <td>2</td>\n",
       "    </tr>\n",
       "    <tr>\n",
       "      <th>13</th>\n",
       "      <td>Sports (baseball)</td>\n",
       "      <td>2</td>\n",
       "    </tr>\n",
       "    <tr>\n",
       "      <th>14</th>\n",
       "      <td>Simulation (CMS)</td>\n",
       "      <td>2</td>\n",
       "    </tr>\n",
       "    <tr>\n",
       "      <th>15</th>\n",
       "      <td>RPG / Puzzle</td>\n",
       "      <td>2</td>\n",
       "    </tr>\n",
       "    <tr>\n",
       "      <th>16</th>\n",
       "      <td>Augmented reality</td>\n",
       "      <td>2</td>\n",
       "    </tr>\n",
       "    <tr>\n",
       "      <th>17</th>\n",
       "      <td>Real-time strategy</td>\n",
       "      <td>1</td>\n",
       "    </tr>\n",
       "    <tr>\n",
       "      <th>18</th>\n",
       "      <td>Puzzle / RPG</td>\n",
       "      <td>1</td>\n",
       "    </tr>\n",
       "    <tr>\n",
       "      <th>19</th>\n",
       "      <td>Physics / Puzzle</td>\n",
       "      <td>1</td>\n",
       "    </tr>\n",
       "    <tr>\n",
       "      <th>20</th>\n",
       "      <td>Sports (association football)</td>\n",
       "      <td>1</td>\n",
       "    </tr>\n",
       "    <tr>\n",
       "      <th>21</th>\n",
       "      <td>Digital collectible card game</td>\n",
       "      <td>1</td>\n",
       "    </tr>\n",
       "    <tr>\n",
       "      <th>22</th>\n",
       "      <td>Simulation (Social)</td>\n",
       "      <td>1</td>\n",
       "    </tr>\n",
       "    <tr>\n",
       "      <th>23</th>\n",
       "      <td>Strategy (auto battler)</td>\n",
       "      <td>1</td>\n",
       "    </tr>\n",
       "    <tr>\n",
       "      <th>24</th>\n",
       "      <td>Online Bingo</td>\n",
       "      <td>1</td>\n",
       "    </tr>\n",
       "    <tr>\n",
       "      <th>25</th>\n",
       "      <td>Puzzle / Strategy</td>\n",
       "      <td>1</td>\n",
       "    </tr>\n",
       "    <tr>\n",
       "      <th>26</th>\n",
       "      <td>Simulation (Slot)</td>\n",
       "      <td>1</td>\n",
       "    </tr>\n",
       "    <tr>\n",
       "      <th>27</th>\n",
       "      <td>Sports (basketball)</td>\n",
       "      <td>1</td>\n",
       "    </tr>\n",
       "    <tr>\n",
       "      <th>28</th>\n",
       "      <td>Rhythm / Adventure</td>\n",
       "      <td>1</td>\n",
       "    </tr>\n",
       "    <tr>\n",
       "      <th>29</th>\n",
       "      <td>Racing</td>\n",
       "      <td>1</td>\n",
       "    </tr>\n",
       "    <tr>\n",
       "      <th>30</th>\n",
       "      <td>Yahtzee</td>\n",
       "      <td>1</td>\n",
       "    </tr>\n",
       "    <tr>\n",
       "      <th>31</th>\n",
       "      <td>Sports (pool)</td>\n",
       "      <td>1</td>\n",
       "    </tr>\n",
       "    <tr>\n",
       "      <th>32</th>\n",
       "      <td>Tactical FPS</td>\n",
       "      <td>1</td>\n",
       "    </tr>\n",
       "    <tr>\n",
       "      <th>33</th>\n",
       "      <td>Casual / Casino</td>\n",
       "      <td>1</td>\n",
       "    </tr>\n",
       "    <tr>\n",
       "      <th>34</th>\n",
       "      <td>Sandbox / Survival</td>\n",
       "      <td>1</td>\n",
       "    </tr>\n",
       "    <tr>\n",
       "      <th>35</th>\n",
       "      <td>Strategy MMORPG</td>\n",
       "      <td>1</td>\n",
       "    </tr>\n",
       "    <tr>\n",
       "      <th>36</th>\n",
       "      <td>DCCG / Rhythm</td>\n",
       "      <td>1</td>\n",
       "    </tr>\n",
       "    <tr>\n",
       "      <th>37</th>\n",
       "      <td>Real Time Strategy</td>\n",
       "      <td>1</td>\n",
       "    </tr>\n",
       "    <tr>\n",
       "      <th>38</th>\n",
       "      <td>ARPG / Hack &amp; slash</td>\n",
       "      <td>1</td>\n",
       "    </tr>\n",
       "    <tr>\n",
       "      <th>39</th>\n",
       "      <td>Puzzle / RPG / Strategy</td>\n",
       "      <td>1</td>\n",
       "    </tr>\n",
       "    <tr>\n",
       "      <th>40</th>\n",
       "      <td>Racing (Kart / MMOR)</td>\n",
       "      <td>1</td>\n",
       "    </tr>\n",
       "    <tr>\n",
       "      <th>41</th>\n",
       "      <td>Simulation / Social</td>\n",
       "      <td>1</td>\n",
       "    </tr>\n",
       "    <tr>\n",
       "      <th>42</th>\n",
       "      <td>GCS / MMO</td>\n",
       "      <td>1</td>\n",
       "    </tr>\n",
       "    <tr>\n",
       "      <th>43</th>\n",
       "      <td>TBS / MMO</td>\n",
       "      <td>1</td>\n",
       "    </tr>\n",
       "    <tr>\n",
       "      <th>44</th>\n",
       "      <td>Simulation</td>\n",
       "      <td>1</td>\n",
       "    </tr>\n",
       "    <tr>\n",
       "      <th>45</th>\n",
       "      <td>Shooter / Battle royale</td>\n",
       "      <td>1</td>\n",
       "    </tr>\n",
       "    <tr>\n",
       "      <th>46</th>\n",
       "      <td>Fighting</td>\n",
       "      <td>1</td>\n",
       "    </tr>\n",
       "    <tr>\n",
       "      <th>47</th>\n",
       "      <td>Sports (American football)</td>\n",
       "      <td>1</td>\n",
       "    </tr>\n",
       "  </tbody>\n",
       "</table>\n",
       "</div>"
      ],
      "text/plain": [
       "                            index  Genre(s)\n",
       "0                             RPG        12\n",
       "1                        Strategy         9\n",
       "2                          Puzzle         9\n",
       "3                          MMORPG         9\n",
       "4                            MOBA         5\n",
       "5                   Battle royale         4\n",
       "6                      Action RPG         4\n",
       "7             Puzzle / Decoration         3\n",
       "8                  Strategy / MMO         2\n",
       "9                   Racing (Kart)         2\n",
       "10                           DCCG         2\n",
       "11                   Tactical RPG         2\n",
       "12                  Strategy (4X)         2\n",
       "13              Sports (baseball)         2\n",
       "14               Simulation (CMS)         2\n",
       "15                   RPG / Puzzle         2\n",
       "16              Augmented reality         2\n",
       "17             Real-time strategy         1\n",
       "18                   Puzzle / RPG         1\n",
       "19               Physics / Puzzle         1\n",
       "20  Sports (association football)         1\n",
       "21  Digital collectible card game         1\n",
       "22            Simulation (Social)         1\n",
       "23        Strategy (auto battler)         1\n",
       "24                   Online Bingo         1\n",
       "25              Puzzle / Strategy         1\n",
       "26              Simulation (Slot)         1\n",
       "27            Sports (basketball)         1\n",
       "28             Rhythm / Adventure         1\n",
       "29                         Racing         1\n",
       "30                        Yahtzee         1\n",
       "31                  Sports (pool)         1\n",
       "32                   Tactical FPS         1\n",
       "33                Casual / Casino         1\n",
       "34             Sandbox / Survival         1\n",
       "35                Strategy MMORPG         1\n",
       "36                  DCCG / Rhythm         1\n",
       "37             Real Time Strategy         1\n",
       "38            ARPG / Hack & slash         1\n",
       "39        Puzzle / RPG / Strategy         1\n",
       "40           Racing (Kart / MMOR)         1\n",
       "41            Simulation / Social         1\n",
       "42                      GCS / MMO         1\n",
       "43                      TBS / MMO         1\n",
       "44                     Simulation         1\n",
       "45        Shooter / Battle royale         1\n",
       "46                       Fighting         1\n",
       "47     Sports (American football)         1"
      ]
     },
     "execution_count": 10,
     "metadata": {},
     "output_type": "execute_result"
    }
   ],
   "source": [
    "genresgrouped"
   ]
  },
  {
   "attachments": {},
   "cell_type": "markdown",
   "metadata": {},
   "source": [
    "dsarf\n",
    "dwsfewf\n",
    "ewrfwefewfefefw"
   ]
  },
  {
   "cell_type": "code",
   "execution_count": 16,
   "metadata": {},
   "outputs": [
    {
     "data": {
      "application/vnd.plotly.v1+json": {
       "config": {
        "plotlyServerURL": "https://plot.ly"
       },
       "data": [
        {
         "type": "bar",
         "x": [
          "RPG",
          "Strategy",
          "Puzzle",
          "MMORPG",
          "MOBA",
          "Battle royale",
          "Action RPG",
          "Puzzle / Decoration",
          "Strategy / MMO",
          "Racing (Kart)",
          "DCCG",
          "Tactical RPG",
          "Strategy (4X)",
          "Sports (baseball)",
          "Simulation (CMS)",
          "RPG / Puzzle",
          "Augmented reality",
          "Real-time strategy",
          "Puzzle / RPG",
          "Physics / Puzzle",
          "Sports (association football)",
          "Digital collectible card game",
          "Simulation (Social)",
          "Strategy (auto battler)",
          "Online Bingo",
          "Puzzle / Strategy",
          "Simulation (Slot)",
          "Sports (basketball)",
          "Rhythm / Adventure",
          "Racing",
          "Yahtzee",
          "Sports (pool)",
          "Tactical FPS",
          "Casual / Casino",
          "Sandbox / Survival",
          "Strategy MMORPG",
          "DCCG / Rhythm",
          "Real Time Strategy",
          "ARPG / Hack & slash",
          "Puzzle / RPG / Strategy",
          "Racing (Kart / MMOR)",
          "Simulation / Social",
          "GCS / MMO",
          "TBS / MMO",
          "Simulation",
          "Shooter / Battle royale",
          "Fighting",
          "Sports (American football)"
         ],
         "y": [
          12,
          9,
          9,
          9,
          5,
          4,
          4,
          3,
          2,
          2,
          2,
          2,
          2,
          2,
          2,
          2,
          2,
          1,
          1,
          1,
          1,
          1,
          1,
          1,
          1,
          1,
          1,
          1,
          1,
          1,
          1,
          1,
          1,
          1,
          1,
          1,
          1,
          1,
          1,
          1,
          1,
          1,
          1,
          1,
          1,
          1,
          1,
          1
         ]
        }
       ],
       "layout": {
        "template": {
         "data": {
          "bar": [
           {
            "error_x": {
             "color": "#2a3f5f"
            },
            "error_y": {
             "color": "#2a3f5f"
            },
            "marker": {
             "line": {
              "color": "#E5ECF6",
              "width": 0.5
             },
             "pattern": {
              "fillmode": "overlay",
              "size": 10,
              "solidity": 0.2
             }
            },
            "type": "bar"
           }
          ],
          "barpolar": [
           {
            "marker": {
             "line": {
              "color": "#E5ECF6",
              "width": 0.5
             },
             "pattern": {
              "fillmode": "overlay",
              "size": 10,
              "solidity": 0.2
             }
            },
            "type": "barpolar"
           }
          ],
          "carpet": [
           {
            "aaxis": {
             "endlinecolor": "#2a3f5f",
             "gridcolor": "white",
             "linecolor": "white",
             "minorgridcolor": "white",
             "startlinecolor": "#2a3f5f"
            },
            "baxis": {
             "endlinecolor": "#2a3f5f",
             "gridcolor": "white",
             "linecolor": "white",
             "minorgridcolor": "white",
             "startlinecolor": "#2a3f5f"
            },
            "type": "carpet"
           }
          ],
          "choropleth": [
           {
            "colorbar": {
             "outlinewidth": 0,
             "ticks": ""
            },
            "type": "choropleth"
           }
          ],
          "contour": [
           {
            "colorbar": {
             "outlinewidth": 0,
             "ticks": ""
            },
            "colorscale": [
             [
              0,
              "#0d0887"
             ],
             [
              0.1111111111111111,
              "#46039f"
             ],
             [
              0.2222222222222222,
              "#7201a8"
             ],
             [
              0.3333333333333333,
              "#9c179e"
             ],
             [
              0.4444444444444444,
              "#bd3786"
             ],
             [
              0.5555555555555556,
              "#d8576b"
             ],
             [
              0.6666666666666666,
              "#ed7953"
             ],
             [
              0.7777777777777778,
              "#fb9f3a"
             ],
             [
              0.8888888888888888,
              "#fdca26"
             ],
             [
              1,
              "#f0f921"
             ]
            ],
            "type": "contour"
           }
          ],
          "contourcarpet": [
           {
            "colorbar": {
             "outlinewidth": 0,
             "ticks": ""
            },
            "type": "contourcarpet"
           }
          ],
          "heatmap": [
           {
            "colorbar": {
             "outlinewidth": 0,
             "ticks": ""
            },
            "colorscale": [
             [
              0,
              "#0d0887"
             ],
             [
              0.1111111111111111,
              "#46039f"
             ],
             [
              0.2222222222222222,
              "#7201a8"
             ],
             [
              0.3333333333333333,
              "#9c179e"
             ],
             [
              0.4444444444444444,
              "#bd3786"
             ],
             [
              0.5555555555555556,
              "#d8576b"
             ],
             [
              0.6666666666666666,
              "#ed7953"
             ],
             [
              0.7777777777777778,
              "#fb9f3a"
             ],
             [
              0.8888888888888888,
              "#fdca26"
             ],
             [
              1,
              "#f0f921"
             ]
            ],
            "type": "heatmap"
           }
          ],
          "heatmapgl": [
           {
            "colorbar": {
             "outlinewidth": 0,
             "ticks": ""
            },
            "colorscale": [
             [
              0,
              "#0d0887"
             ],
             [
              0.1111111111111111,
              "#46039f"
             ],
             [
              0.2222222222222222,
              "#7201a8"
             ],
             [
              0.3333333333333333,
              "#9c179e"
             ],
             [
              0.4444444444444444,
              "#bd3786"
             ],
             [
              0.5555555555555556,
              "#d8576b"
             ],
             [
              0.6666666666666666,
              "#ed7953"
             ],
             [
              0.7777777777777778,
              "#fb9f3a"
             ],
             [
              0.8888888888888888,
              "#fdca26"
             ],
             [
              1,
              "#f0f921"
             ]
            ],
            "type": "heatmapgl"
           }
          ],
          "histogram": [
           {
            "marker": {
             "pattern": {
              "fillmode": "overlay",
              "size": 10,
              "solidity": 0.2
             }
            },
            "type": "histogram"
           }
          ],
          "histogram2d": [
           {
            "colorbar": {
             "outlinewidth": 0,
             "ticks": ""
            },
            "colorscale": [
             [
              0,
              "#0d0887"
             ],
             [
              0.1111111111111111,
              "#46039f"
             ],
             [
              0.2222222222222222,
              "#7201a8"
             ],
             [
              0.3333333333333333,
              "#9c179e"
             ],
             [
              0.4444444444444444,
              "#bd3786"
             ],
             [
              0.5555555555555556,
              "#d8576b"
             ],
             [
              0.6666666666666666,
              "#ed7953"
             ],
             [
              0.7777777777777778,
              "#fb9f3a"
             ],
             [
              0.8888888888888888,
              "#fdca26"
             ],
             [
              1,
              "#f0f921"
             ]
            ],
            "type": "histogram2d"
           }
          ],
          "histogram2dcontour": [
           {
            "colorbar": {
             "outlinewidth": 0,
             "ticks": ""
            },
            "colorscale": [
             [
              0,
              "#0d0887"
             ],
             [
              0.1111111111111111,
              "#46039f"
             ],
             [
              0.2222222222222222,
              "#7201a8"
             ],
             [
              0.3333333333333333,
              "#9c179e"
             ],
             [
              0.4444444444444444,
              "#bd3786"
             ],
             [
              0.5555555555555556,
              "#d8576b"
             ],
             [
              0.6666666666666666,
              "#ed7953"
             ],
             [
              0.7777777777777778,
              "#fb9f3a"
             ],
             [
              0.8888888888888888,
              "#fdca26"
             ],
             [
              1,
              "#f0f921"
             ]
            ],
            "type": "histogram2dcontour"
           }
          ],
          "mesh3d": [
           {
            "colorbar": {
             "outlinewidth": 0,
             "ticks": ""
            },
            "type": "mesh3d"
           }
          ],
          "parcoords": [
           {
            "line": {
             "colorbar": {
              "outlinewidth": 0,
              "ticks": ""
             }
            },
            "type": "parcoords"
           }
          ],
          "pie": [
           {
            "automargin": true,
            "type": "pie"
           }
          ],
          "scatter": [
           {
            "fillpattern": {
             "fillmode": "overlay",
             "size": 10,
             "solidity": 0.2
            },
            "type": "scatter"
           }
          ],
          "scatter3d": [
           {
            "line": {
             "colorbar": {
              "outlinewidth": 0,
              "ticks": ""
             }
            },
            "marker": {
             "colorbar": {
              "outlinewidth": 0,
              "ticks": ""
             }
            },
            "type": "scatter3d"
           }
          ],
          "scattercarpet": [
           {
            "marker": {
             "colorbar": {
              "outlinewidth": 0,
              "ticks": ""
             }
            },
            "type": "scattercarpet"
           }
          ],
          "scattergeo": [
           {
            "marker": {
             "colorbar": {
              "outlinewidth": 0,
              "ticks": ""
             }
            },
            "type": "scattergeo"
           }
          ],
          "scattergl": [
           {
            "marker": {
             "colorbar": {
              "outlinewidth": 0,
              "ticks": ""
             }
            },
            "type": "scattergl"
           }
          ],
          "scattermapbox": [
           {
            "marker": {
             "colorbar": {
              "outlinewidth": 0,
              "ticks": ""
             }
            },
            "type": "scattermapbox"
           }
          ],
          "scatterpolar": [
           {
            "marker": {
             "colorbar": {
              "outlinewidth": 0,
              "ticks": ""
             }
            },
            "type": "scatterpolar"
           }
          ],
          "scatterpolargl": [
           {
            "marker": {
             "colorbar": {
              "outlinewidth": 0,
              "ticks": ""
             }
            },
            "type": "scatterpolargl"
           }
          ],
          "scatterternary": [
           {
            "marker": {
             "colorbar": {
              "outlinewidth": 0,
              "ticks": ""
             }
            },
            "type": "scatterternary"
           }
          ],
          "surface": [
           {
            "colorbar": {
             "outlinewidth": 0,
             "ticks": ""
            },
            "colorscale": [
             [
              0,
              "#0d0887"
             ],
             [
              0.1111111111111111,
              "#46039f"
             ],
             [
              0.2222222222222222,
              "#7201a8"
             ],
             [
              0.3333333333333333,
              "#9c179e"
             ],
             [
              0.4444444444444444,
              "#bd3786"
             ],
             [
              0.5555555555555556,
              "#d8576b"
             ],
             [
              0.6666666666666666,
              "#ed7953"
             ],
             [
              0.7777777777777778,
              "#fb9f3a"
             ],
             [
              0.8888888888888888,
              "#fdca26"
             ],
             [
              1,
              "#f0f921"
             ]
            ],
            "type": "surface"
           }
          ],
          "table": [
           {
            "cells": {
             "fill": {
              "color": "#EBF0F8"
             },
             "line": {
              "color": "white"
             }
            },
            "header": {
             "fill": {
              "color": "#C8D4E3"
             },
             "line": {
              "color": "white"
             }
            },
            "type": "table"
           }
          ]
         },
         "layout": {
          "annotationdefaults": {
           "arrowcolor": "#2a3f5f",
           "arrowhead": 0,
           "arrowwidth": 1
          },
          "autotypenumbers": "strict",
          "coloraxis": {
           "colorbar": {
            "outlinewidth": 0,
            "ticks": ""
           }
          },
          "colorscale": {
           "diverging": [
            [
             0,
             "#8e0152"
            ],
            [
             0.1,
             "#c51b7d"
            ],
            [
             0.2,
             "#de77ae"
            ],
            [
             0.3,
             "#f1b6da"
            ],
            [
             0.4,
             "#fde0ef"
            ],
            [
             0.5,
             "#f7f7f7"
            ],
            [
             0.6,
             "#e6f5d0"
            ],
            [
             0.7,
             "#b8e186"
            ],
            [
             0.8,
             "#7fbc41"
            ],
            [
             0.9,
             "#4d9221"
            ],
            [
             1,
             "#276419"
            ]
           ],
           "sequential": [
            [
             0,
             "#0d0887"
            ],
            [
             0.1111111111111111,
             "#46039f"
            ],
            [
             0.2222222222222222,
             "#7201a8"
            ],
            [
             0.3333333333333333,
             "#9c179e"
            ],
            [
             0.4444444444444444,
             "#bd3786"
            ],
            [
             0.5555555555555556,
             "#d8576b"
            ],
            [
             0.6666666666666666,
             "#ed7953"
            ],
            [
             0.7777777777777778,
             "#fb9f3a"
            ],
            [
             0.8888888888888888,
             "#fdca26"
            ],
            [
             1,
             "#f0f921"
            ]
           ],
           "sequentialminus": [
            [
             0,
             "#0d0887"
            ],
            [
             0.1111111111111111,
             "#46039f"
            ],
            [
             0.2222222222222222,
             "#7201a8"
            ],
            [
             0.3333333333333333,
             "#9c179e"
            ],
            [
             0.4444444444444444,
             "#bd3786"
            ],
            [
             0.5555555555555556,
             "#d8576b"
            ],
            [
             0.6666666666666666,
             "#ed7953"
            ],
            [
             0.7777777777777778,
             "#fb9f3a"
            ],
            [
             0.8888888888888888,
             "#fdca26"
            ],
            [
             1,
             "#f0f921"
            ]
           ]
          },
          "colorway": [
           "#636efa",
           "#EF553B",
           "#00cc96",
           "#ab63fa",
           "#FFA15A",
           "#19d3f3",
           "#FF6692",
           "#B6E880",
           "#FF97FF",
           "#FECB52"
          ],
          "font": {
           "color": "#2a3f5f"
          },
          "geo": {
           "bgcolor": "white",
           "lakecolor": "white",
           "landcolor": "#E5ECF6",
           "showlakes": true,
           "showland": true,
           "subunitcolor": "white"
          },
          "hoverlabel": {
           "align": "left"
          },
          "hovermode": "closest",
          "mapbox": {
           "style": "light"
          },
          "paper_bgcolor": "white",
          "plot_bgcolor": "#E5ECF6",
          "polar": {
           "angularaxis": {
            "gridcolor": "white",
            "linecolor": "white",
            "ticks": ""
           },
           "bgcolor": "#E5ECF6",
           "radialaxis": {
            "gridcolor": "white",
            "linecolor": "white",
            "ticks": ""
           }
          },
          "scene": {
           "xaxis": {
            "backgroundcolor": "#E5ECF6",
            "gridcolor": "white",
            "gridwidth": 2,
            "linecolor": "white",
            "showbackground": true,
            "ticks": "",
            "zerolinecolor": "white"
           },
           "yaxis": {
            "backgroundcolor": "#E5ECF6",
            "gridcolor": "white",
            "gridwidth": 2,
            "linecolor": "white",
            "showbackground": true,
            "ticks": "",
            "zerolinecolor": "white"
           },
           "zaxis": {
            "backgroundcolor": "#E5ECF6",
            "gridcolor": "white",
            "gridwidth": 2,
            "linecolor": "white",
            "showbackground": true,
            "ticks": "",
            "zerolinecolor": "white"
           }
          },
          "shapedefaults": {
           "line": {
            "color": "#2a3f5f"
           }
          },
          "ternary": {
           "aaxis": {
            "gridcolor": "white",
            "linecolor": "white",
            "ticks": ""
           },
           "baxis": {
            "gridcolor": "white",
            "linecolor": "white",
            "ticks": ""
           },
           "bgcolor": "#E5ECF6",
           "caxis": {
            "gridcolor": "white",
            "linecolor": "white",
            "ticks": ""
           }
          },
          "title": {
           "x": 0.05
          },
          "xaxis": {
           "automargin": true,
           "gridcolor": "white",
           "linecolor": "white",
           "ticks": "",
           "title": {
            "standoff": 15
           },
           "zerolinecolor": "white",
           "zerolinewidth": 2
          },
          "yaxis": {
           "automargin": true,
           "gridcolor": "white",
           "linecolor": "white",
           "ticks": "",
           "title": {
            "standoff": 15
           },
           "zerolinecolor": "white",
           "zerolinewidth": 2
          }
         }
        },
        "title": {
         "text": "Gêneros com mais quantidade de jogos"
        }
       }
      }
     },
     "metadata": {},
     "output_type": "display_data"
    }
   ],
   "source": [
    "import plotly.graph_objects as go\n",
    "fig = go.Figure(\n",
    "    data=[go.Bar(x=genresgrouped.iloc[:,0].values,y=genresgrouped.iloc[:,1].values)],\n",
    "    layout_title_text=\"Gêneros com mais quantidade de jogos\"\n",
    "    \n",
    ")\n",
    "fig.show()"
   ]
  },
  {
   "cell_type": "code",
   "execution_count": 24,
   "metadata": {},
   "outputs": [
    {
     "data": {
      "text/plain": [
       "71    2021-11-04\n",
       "68    2021-09-09\n",
       "41    2021-02-24\n",
       "79    2020-11-27\n",
       "61    2020-10-27\n",
       "         ...    \n",
       "47    2012-02-24\n",
       "3     2012-02-20\n",
       "62    2011-11-18\n",
       "92    2011-11-07\n",
       "67    2010-10-15\n",
       "Name: Initial release, Length: 104, dtype: object"
      ]
     },
     "execution_count": 24,
     "metadata": {},
     "output_type": "execute_result"
    }
   ],
   "source": [
    "df[\"Initial release\"].sort_values(ascending=False)"
   ]
  },
  {
   "cell_type": "code",
   "execution_count": 34,
   "metadata": {},
   "outputs": [],
   "source": [
    "df_filtered =df.copy()\n",
    "df_filtered = df_filtered[df_filtered[\"Initial release\"] >= \"2015-11-04\"]"
   ]
  },
  {
   "cell_type": "code",
   "execution_count": 35,
   "metadata": {},
   "outputs": [
    {
     "data": {
      "text/html": [
       "<div>\n",
       "<style scoped>\n",
       "    .dataframe tbody tr th:only-of-type {\n",
       "        vertical-align: middle;\n",
       "    }\n",
       "\n",
       "    .dataframe tbody tr th {\n",
       "        vertical-align: top;\n",
       "    }\n",
       "\n",
       "    .dataframe thead th {\n",
       "        text-align: right;\n",
       "    }\n",
       "</style>\n",
       "<table border=\"1\" class=\"dataframe\">\n",
       "  <thead>\n",
       "    <tr style=\"text-align: right;\">\n",
       "      <th></th>\n",
       "      <th>Game</th>\n",
       "      <th>Revenue</th>\n",
       "      <th>Initial release</th>\n",
       "      <th>Publisher(s)</th>\n",
       "      <th>Genre(s)</th>\n",
       "    </tr>\n",
       "  </thead>\n",
       "  <tbody>\n",
       "    <tr>\n",
       "      <th>0</th>\n",
       "      <td>Honor of Kings / Arena of Valor</td>\n",
       "      <td>14667500000</td>\n",
       "      <td>2015-11-26</td>\n",
       "      <td>Tencent Games</td>\n",
       "      <td>MOBA</td>\n",
       "    </tr>\n",
       "    <tr>\n",
       "      <th>2</th>\n",
       "      <td>PUBG Mobile</td>\n",
       "      <td>9000000000</td>\n",
       "      <td>2018-03-19</td>\n",
       "      <td>Tencent Games / Krafton / VNG Games</td>\n",
       "      <td>Battle royale</td>\n",
       "    </tr>\n",
       "    <tr>\n",
       "      <th>5</th>\n",
       "      <td>Pokémon Go</td>\n",
       "      <td>7760000000</td>\n",
       "      <td>2016-07-06</td>\n",
       "      <td>Niantic / The Pokémon Company</td>\n",
       "      <td>Augmented reality</td>\n",
       "    </tr>\n",
       "    <tr>\n",
       "      <th>9</th>\n",
       "      <td>Garena Free Fire</td>\n",
       "      <td>4330000000</td>\n",
       "      <td>2017-12-04</td>\n",
       "      <td>Garena</td>\n",
       "      <td>Battle royale</td>\n",
       "    </tr>\n",
       "    <tr>\n",
       "      <th>11</th>\n",
       "      <td>Genshin Impact</td>\n",
       "      <td>3567000000</td>\n",
       "      <td>2020-09-28</td>\n",
       "      <td>miHoYo</td>\n",
       "      <td>Action RPG</td>\n",
       "    </tr>\n",
       "    <tr>\n",
       "      <th>...</th>\n",
       "      <td>...</td>\n",
       "      <td>...</td>\n",
       "      <td>...</td>\n",
       "      <td>...</td>\n",
       "      <td>...</td>\n",
       "    </tr>\n",
       "    <tr>\n",
       "      <th>98</th>\n",
       "      <td>One Piece: The Road of the Strong</td>\n",
       "      <td>113840000</td>\n",
       "      <td>2016-01-15</td>\n",
       "      <td>CMGE</td>\n",
       "      <td>DCCG</td>\n",
       "    </tr>\n",
       "    <tr>\n",
       "      <th>99</th>\n",
       "      <td>Yahtzee With Buddies</td>\n",
       "      <td>113000000</td>\n",
       "      <td>2017-11-01</td>\n",
       "      <td>Scopely</td>\n",
       "      <td>Yahtzee</td>\n",
       "    </tr>\n",
       "    <tr>\n",
       "      <th>100</th>\n",
       "      <td>Dragon Quest Tact</td>\n",
       "      <td>111990000</td>\n",
       "      <td>2020-07-16</td>\n",
       "      <td>Square Enix</td>\n",
       "      <td>Tactical RPG</td>\n",
       "    </tr>\n",
       "    <tr>\n",
       "      <th>102</th>\n",
       "      <td>Mafia City</td>\n",
       "      <td>100000000</td>\n",
       "      <td>2017-07-25</td>\n",
       "      <td>Yotta Games</td>\n",
       "      <td>RPG</td>\n",
       "    </tr>\n",
       "    <tr>\n",
       "      <th>103</th>\n",
       "      <td>Madden NFL Overdrive</td>\n",
       "      <td>100000000</td>\n",
       "      <td>2018-08-15</td>\n",
       "      <td>EA Sports (Electronic Arts)</td>\n",
       "      <td>Sports (American football)</td>\n",
       "    </tr>\n",
       "  </tbody>\n",
       "</table>\n",
       "<p>70 rows × 5 columns</p>\n",
       "</div>"
      ],
      "text/plain": [
       "                                  Game      Revenue Initial release  \\\n",
       "0      Honor of Kings / Arena of Valor  14667500000      2015-11-26   \n",
       "2                          PUBG Mobile   9000000000      2018-03-19   \n",
       "5                           Pokémon Go   7760000000      2016-07-06   \n",
       "9                     Garena Free Fire   4330000000      2017-12-04   \n",
       "11                      Genshin Impact   3567000000      2020-09-28   \n",
       "..                                 ...          ...             ...   \n",
       "98   One Piece: The Road of the Strong    113840000      2016-01-15   \n",
       "99                Yahtzee With Buddies    113000000      2017-11-01   \n",
       "100                  Dragon Quest Tact    111990000      2020-07-16   \n",
       "102                         Mafia City    100000000      2017-07-25   \n",
       "103               Madden NFL Overdrive    100000000      2018-08-15   \n",
       "\n",
       "                            Publisher(s)                    Genre(s)  \n",
       "0                          Tencent Games                        MOBA  \n",
       "2    Tencent Games / Krafton / VNG Games               Battle royale  \n",
       "5          Niantic / The Pokémon Company           Augmented reality  \n",
       "9                                 Garena               Battle royale  \n",
       "11                                miHoYo                  Action RPG  \n",
       "..                                   ...                         ...  \n",
       "98                                  CMGE                        DCCG  \n",
       "99                               Scopely                     Yahtzee  \n",
       "100                          Square Enix                Tactical RPG  \n",
       "102                          Yotta Games                         RPG  \n",
       "103          EA Sports (Electronic Arts)  Sports (American football)  \n",
       "\n",
       "[70 rows x 5 columns]"
      ]
     },
     "execution_count": 35,
     "metadata": {},
     "output_type": "execute_result"
    }
   ],
   "source": [
    "df_filtered"
   ]
  },
  {
   "cell_type": "code",
   "execution_count": 36,
   "metadata": {},
   "outputs": [],
   "source": [
    "df_filtered[\"year\"]= df_filtered[\"Initial release\"].str.slice(0,4)"
   ]
  },
  {
   "attachments": {},
   "cell_type": "markdown",
   "metadata": {},
   "source": [
    "Top 3 de cada ano dos jogos mais rentáveis entre 2015-2021"
   ]
  },
  {
   "cell_type": "code",
   "execution_count": 40,
   "metadata": {},
   "outputs": [
    {
     "data": {
      "text/html": [
       "<div>\n",
       "<style scoped>\n",
       "    .dataframe tbody tr th:only-of-type {\n",
       "        vertical-align: middle;\n",
       "    }\n",
       "\n",
       "    .dataframe tbody tr th {\n",
       "        vertical-align: top;\n",
       "    }\n",
       "\n",
       "    .dataframe thead th {\n",
       "        text-align: right;\n",
       "    }\n",
       "</style>\n",
       "<table border=\"1\" class=\"dataframe\">\n",
       "  <thead>\n",
       "    <tr style=\"text-align: right;\">\n",
       "      <th></th>\n",
       "      <th>Game</th>\n",
       "      <th>Revenue</th>\n",
       "      <th>Initial release</th>\n",
       "      <th>Publisher(s)</th>\n",
       "      <th>Genre(s)</th>\n",
       "      <th>year</th>\n",
       "    </tr>\n",
       "  </thead>\n",
       "  <tbody>\n",
       "    <tr>\n",
       "      <th>0</th>\n",
       "      <td>Honor of Kings / Arena of Valor</td>\n",
       "      <td>14667500000</td>\n",
       "      <td>2015-11-26</td>\n",
       "      <td>Tencent Games</td>\n",
       "      <td>MOBA</td>\n",
       "      <td>2015</td>\n",
       "    </tr>\n",
       "    <tr>\n",
       "      <th>36</th>\n",
       "      <td>Star Wars: Galaxy of Heroes</td>\n",
       "      <td>1071000000</td>\n",
       "      <td>2015-11-24</td>\n",
       "      <td>Electronic Arts</td>\n",
       "      <td>RPG</td>\n",
       "      <td>2015</td>\n",
       "    </tr>\n",
       "    <tr>\n",
       "      <th>46</th>\n",
       "      <td>Fishdom</td>\n",
       "      <td>923600000</td>\n",
       "      <td>2015-12-10</td>\n",
       "      <td>Playrix</td>\n",
       "      <td>Puzzle</td>\n",
       "      <td>2015</td>\n",
       "    </tr>\n",
       "    <tr>\n",
       "      <th>5</th>\n",
       "      <td>Pokémon Go</td>\n",
       "      <td>7760000000</td>\n",
       "      <td>2016-07-06</td>\n",
       "      <td>Niantic / The Pokémon Company</td>\n",
       "      <td>Augmented reality</td>\n",
       "      <td>2016</td>\n",
       "    </tr>\n",
       "    <tr>\n",
       "      <th>15</th>\n",
       "      <td>Clash Royale</td>\n",
       "      <td>3000000000</td>\n",
       "      <td>2016-03-02</td>\n",
       "      <td>Supercell (Tencent)</td>\n",
       "      <td>Real-time strategy</td>\n",
       "      <td>2016</td>\n",
       "    </tr>\n",
       "    <tr>\n",
       "      <th>16</th>\n",
       "      <td>Gardenscapes</td>\n",
       "      <td>3000000000</td>\n",
       "      <td>2016-07-05</td>\n",
       "      <td>Playrix</td>\n",
       "      <td>Puzzle / Decoration</td>\n",
       "      <td>2016</td>\n",
       "    </tr>\n",
       "    <tr>\n",
       "      <th>9</th>\n",
       "      <td>Garena Free Fire</td>\n",
       "      <td>4330000000</td>\n",
       "      <td>2017-12-04</td>\n",
       "      <td>Garena</td>\n",
       "      <td>Battle royale</td>\n",
       "      <td>2017</td>\n",
       "    </tr>\n",
       "    <tr>\n",
       "      <th>12</th>\n",
       "      <td>Lineage M</td>\n",
       "      <td>3578000000</td>\n",
       "      <td>2017-06-21</td>\n",
       "      <td>NCsoft</td>\n",
       "      <td>MMORPG</td>\n",
       "      <td>2017</td>\n",
       "    </tr>\n",
       "    <tr>\n",
       "      <th>19</th>\n",
       "      <td>Homescapes</td>\n",
       "      <td>2294000000</td>\n",
       "      <td>2017-09-15</td>\n",
       "      <td>Playrix</td>\n",
       "      <td>Puzzle / Decoration</td>\n",
       "      <td>2017</td>\n",
       "    </tr>\n",
       "    <tr>\n",
       "      <th>2</th>\n",
       "      <td>PUBG Mobile</td>\n",
       "      <td>9000000000</td>\n",
       "      <td>2018-03-19</td>\n",
       "      <td>Tencent Games / Krafton / VNG Games</td>\n",
       "      <td>Battle royale</td>\n",
       "      <td>2018</td>\n",
       "    </tr>\n",
       "    <tr>\n",
       "      <th>14</th>\n",
       "      <td>Coin Master</td>\n",
       "      <td>3008000000</td>\n",
       "      <td>2018-03-19</td>\n",
       "      <td>Moon Active</td>\n",
       "      <td>Casual / Casino</td>\n",
       "      <td>2018</td>\n",
       "    </tr>\n",
       "    <tr>\n",
       "      <th>32</th>\n",
       "      <td>Brawl Stars</td>\n",
       "      <td>1400000000</td>\n",
       "      <td>2018-12-12</td>\n",
       "      <td>Supercell (Tencent)</td>\n",
       "      <td>MOBA</td>\n",
       "      <td>2018</td>\n",
       "    </tr>\n",
       "    <tr>\n",
       "      <th>23</th>\n",
       "      <td>Three Kingdoms Tactics</td>\n",
       "      <td>1936200000</td>\n",
       "      <td>2019-09-19</td>\n",
       "      <td>Alibaba Group / Koei Tecmo</td>\n",
       "      <td>Strategy (4X)</td>\n",
       "      <td>2019</td>\n",
       "    </tr>\n",
       "    <tr>\n",
       "      <th>27</th>\n",
       "      <td>Call of Duty: Mobile</td>\n",
       "      <td>1500000000</td>\n",
       "      <td>2019-10-01</td>\n",
       "      <td>Activision / Tencent / Garena</td>\n",
       "      <td>Shooter / Battle royale</td>\n",
       "      <td>2019</td>\n",
       "    </tr>\n",
       "    <tr>\n",
       "      <th>29</th>\n",
       "      <td>AFK Arena</td>\n",
       "      <td>1450000000</td>\n",
       "      <td>2019-01-07</td>\n",
       "      <td>Lilith Games</td>\n",
       "      <td>RPG</td>\n",
       "      <td>2019</td>\n",
       "    </tr>\n",
       "    <tr>\n",
       "      <th>11</th>\n",
       "      <td>Genshin Impact</td>\n",
       "      <td>3567000000</td>\n",
       "      <td>2020-09-28</td>\n",
       "      <td>miHoYo</td>\n",
       "      <td>Action RPG</td>\n",
       "      <td>2020</td>\n",
       "    </tr>\n",
       "    <tr>\n",
       "      <th>61</th>\n",
       "      <td>League of Legends: Wild Rift</td>\n",
       "      <td>505000000</td>\n",
       "      <td>2020-10-27</td>\n",
       "      <td>Riot Games (Tencent)</td>\n",
       "      <td>MOBA</td>\n",
       "      <td>2020</td>\n",
       "    </tr>\n",
       "    <tr>\n",
       "      <th>79</th>\n",
       "      <td>Project Makeover</td>\n",
       "      <td>218000000</td>\n",
       "      <td>2020-11-27</td>\n",
       "      <td>Bubblegum Games</td>\n",
       "      <td>Puzzle / Decoration</td>\n",
       "      <td>2020</td>\n",
       "    </tr>\n",
       "    <tr>\n",
       "      <th>41</th>\n",
       "      <td>Uma Musume Pretty Derby</td>\n",
       "      <td>990000000</td>\n",
       "      <td>2021-02-24</td>\n",
       "      <td>Cygames</td>\n",
       "      <td>Simulation / Social</td>\n",
       "      <td>2021</td>\n",
       "    </tr>\n",
       "    <tr>\n",
       "      <th>68</th>\n",
       "      <td>Harry Potter: Magic Awakened</td>\n",
       "      <td>358000000</td>\n",
       "      <td>2021-09-09</td>\n",
       "      <td>NetEase / Portkey Games</td>\n",
       "      <td>RPG</td>\n",
       "      <td>2021</td>\n",
       "    </tr>\n",
       "    <tr>\n",
       "      <th>71</th>\n",
       "      <td>Lineage W</td>\n",
       "      <td>302985000</td>\n",
       "      <td>2021-11-04</td>\n",
       "      <td>NCsoft</td>\n",
       "      <td>MMORPG</td>\n",
       "      <td>2021</td>\n",
       "    </tr>\n",
       "  </tbody>\n",
       "</table>\n",
       "</div>"
      ],
      "text/plain": [
       "                               Game      Revenue Initial release  \\\n",
       "0   Honor of Kings / Arena of Valor  14667500000      2015-11-26   \n",
       "36      Star Wars: Galaxy of Heroes   1071000000      2015-11-24   \n",
       "46                          Fishdom    923600000      2015-12-10   \n",
       "5                        Pokémon Go   7760000000      2016-07-06   \n",
       "15                     Clash Royale   3000000000      2016-03-02   \n",
       "16                     Gardenscapes   3000000000      2016-07-05   \n",
       "9                  Garena Free Fire   4330000000      2017-12-04   \n",
       "12                        Lineage M   3578000000      2017-06-21   \n",
       "19                       Homescapes   2294000000      2017-09-15   \n",
       "2                       PUBG Mobile   9000000000      2018-03-19   \n",
       "14                      Coin Master   3008000000      2018-03-19   \n",
       "32                      Brawl Stars   1400000000      2018-12-12   \n",
       "23           Three Kingdoms Tactics   1936200000      2019-09-19   \n",
       "27             Call of Duty: Mobile   1500000000      2019-10-01   \n",
       "29                        AFK Arena   1450000000      2019-01-07   \n",
       "11                   Genshin Impact   3567000000      2020-09-28   \n",
       "61     League of Legends: Wild Rift    505000000      2020-10-27   \n",
       "79                 Project Makeover    218000000      2020-11-27   \n",
       "41          Uma Musume Pretty Derby    990000000      2021-02-24   \n",
       "68     Harry Potter: Magic Awakened    358000000      2021-09-09   \n",
       "71                        Lineage W    302985000      2021-11-04   \n",
       "\n",
       "                           Publisher(s)                 Genre(s)  year  \n",
       "0                         Tencent Games                     MOBA  2015  \n",
       "36                      Electronic Arts                      RPG  2015  \n",
       "46                              Playrix                   Puzzle  2015  \n",
       "5         Niantic / The Pokémon Company        Augmented reality  2016  \n",
       "15                  Supercell (Tencent)       Real-time strategy  2016  \n",
       "16                              Playrix      Puzzle / Decoration  2016  \n",
       "9                                Garena            Battle royale  2017  \n",
       "12                               NCsoft                   MMORPG  2017  \n",
       "19                              Playrix      Puzzle / Decoration  2017  \n",
       "2   Tencent Games / Krafton / VNG Games            Battle royale  2018  \n",
       "14                          Moon Active          Casual / Casino  2018  \n",
       "32                  Supercell (Tencent)                     MOBA  2018  \n",
       "23           Alibaba Group / Koei Tecmo            Strategy (4X)  2019  \n",
       "27        Activision / Tencent / Garena  Shooter / Battle royale  2019  \n",
       "29                         Lilith Games                      RPG  2019  \n",
       "11                               miHoYo               Action RPG  2020  \n",
       "61                 Riot Games (Tencent)                     MOBA  2020  \n",
       "79                      Bubblegum Games      Puzzle / Decoration  2020  \n",
       "41                              Cygames      Simulation / Social  2021  \n",
       "68              NetEase / Portkey Games                      RPG  2021  \n",
       "71                               NCsoft                   MMORPG  2021  "
      ]
     },
     "execution_count": 40,
     "metadata": {},
     "output_type": "execute_result"
    }
   ],
   "source": [
    "df_filtered.sort_values(by= [\"year\", \"Revenue\"], ascending= [True,False]).groupby(\"year\").head(3)"
   ]
  },
  {
   "attachments": {},
   "cell_type": "markdown",
   "metadata": {},
   "source": [
    "Top 1 de cada ano dos jogos mais rentáveis entre 2015-2021"
   ]
  },
  {
   "cell_type": "code",
   "execution_count": 44,
   "metadata": {},
   "outputs": [
    {
     "data": {
      "text/html": [
       "<div>\n",
       "<style scoped>\n",
       "    .dataframe tbody tr th:only-of-type {\n",
       "        vertical-align: middle;\n",
       "    }\n",
       "\n",
       "    .dataframe tbody tr th {\n",
       "        vertical-align: top;\n",
       "    }\n",
       "\n",
       "    .dataframe thead th {\n",
       "        text-align: right;\n",
       "    }\n",
       "</style>\n",
       "<table border=\"1\" class=\"dataframe\">\n",
       "  <thead>\n",
       "    <tr style=\"text-align: right;\">\n",
       "      <th></th>\n",
       "      <th>Game</th>\n",
       "      <th>Revenue</th>\n",
       "      <th>Initial release</th>\n",
       "      <th>Publisher(s)</th>\n",
       "      <th>Genre(s)</th>\n",
       "      <th>year</th>\n",
       "    </tr>\n",
       "  </thead>\n",
       "  <tbody>\n",
       "    <tr>\n",
       "      <th>0</th>\n",
       "      <td>Honor of Kings / Arena of Valor</td>\n",
       "      <td>14667500000</td>\n",
       "      <td>2015-11-26</td>\n",
       "      <td>Tencent Games</td>\n",
       "      <td>MOBA</td>\n",
       "      <td>2015</td>\n",
       "    </tr>\n",
       "    <tr>\n",
       "      <th>5</th>\n",
       "      <td>Pokémon Go</td>\n",
       "      <td>7760000000</td>\n",
       "      <td>2016-07-06</td>\n",
       "      <td>Niantic / The Pokémon Company</td>\n",
       "      <td>Augmented reality</td>\n",
       "      <td>2016</td>\n",
       "    </tr>\n",
       "    <tr>\n",
       "      <th>9</th>\n",
       "      <td>Garena Free Fire</td>\n",
       "      <td>4330000000</td>\n",
       "      <td>2017-12-04</td>\n",
       "      <td>Garena</td>\n",
       "      <td>Battle royale</td>\n",
       "      <td>2017</td>\n",
       "    </tr>\n",
       "    <tr>\n",
       "      <th>2</th>\n",
       "      <td>PUBG Mobile</td>\n",
       "      <td>9000000000</td>\n",
       "      <td>2018-03-19</td>\n",
       "      <td>Tencent Games / Krafton / VNG Games</td>\n",
       "      <td>Battle royale</td>\n",
       "      <td>2018</td>\n",
       "    </tr>\n",
       "    <tr>\n",
       "      <th>23</th>\n",
       "      <td>Three Kingdoms Tactics</td>\n",
       "      <td>1936200000</td>\n",
       "      <td>2019-09-19</td>\n",
       "      <td>Alibaba Group / Koei Tecmo</td>\n",
       "      <td>Strategy (4X)</td>\n",
       "      <td>2019</td>\n",
       "    </tr>\n",
       "    <tr>\n",
       "      <th>11</th>\n",
       "      <td>Genshin Impact</td>\n",
       "      <td>3567000000</td>\n",
       "      <td>2020-09-28</td>\n",
       "      <td>miHoYo</td>\n",
       "      <td>Action RPG</td>\n",
       "      <td>2020</td>\n",
       "    </tr>\n",
       "    <tr>\n",
       "      <th>41</th>\n",
       "      <td>Uma Musume Pretty Derby</td>\n",
       "      <td>990000000</td>\n",
       "      <td>2021-02-24</td>\n",
       "      <td>Cygames</td>\n",
       "      <td>Simulation / Social</td>\n",
       "      <td>2021</td>\n",
       "    </tr>\n",
       "  </tbody>\n",
       "</table>\n",
       "</div>"
      ],
      "text/plain": [
       "                               Game      Revenue Initial release  \\\n",
       "0   Honor of Kings / Arena of Valor  14667500000      2015-11-26   \n",
       "5                        Pokémon Go   7760000000      2016-07-06   \n",
       "9                  Garena Free Fire   4330000000      2017-12-04   \n",
       "2                       PUBG Mobile   9000000000      2018-03-19   \n",
       "23           Three Kingdoms Tactics   1936200000      2019-09-19   \n",
       "11                   Genshin Impact   3567000000      2020-09-28   \n",
       "41          Uma Musume Pretty Derby    990000000      2021-02-24   \n",
       "\n",
       "                           Publisher(s)             Genre(s)  year  \n",
       "0                         Tencent Games                 MOBA  2015  \n",
       "5         Niantic / The Pokémon Company    Augmented reality  2016  \n",
       "9                                Garena        Battle royale  2017  \n",
       "2   Tencent Games / Krafton / VNG Games        Battle royale  2018  \n",
       "23           Alibaba Group / Koei Tecmo        Strategy (4X)  2019  \n",
       "11                               miHoYo           Action RPG  2020  \n",
       "41                              Cygames  Simulation / Social  2021  "
      ]
     },
     "execution_count": 44,
     "metadata": {},
     "output_type": "execute_result"
    }
   ],
   "source": [
    "df_filtered.sort_values(by= [\"year\", \"Revenue\"], ascending= [True,False]).groupby(\"year\").head(1)"
   ]
  },
  {
   "cell_type": "code",
   "execution_count": null,
   "metadata": {},
   "outputs": [],
   "source": []
  }
 ],
 "metadata": {
  "kernelspec": {
   "display_name": "data-analysis",
   "language": "python",
   "name": "python3"
  },
  "language_info": {
   "codemirror_mode": {
    "name": "ipython",
    "version": 3
   },
   "file_extension": ".py",
   "mimetype": "text/x-python",
   "name": "python",
   "nbconvert_exporter": "python",
   "pygments_lexer": "ipython3",
   "version": "3.11.1"
  },
  "orig_nbformat": 4,
  "vscode": {
   "interpreter": {
    "hash": "e6386ef85bee7ecd711ea49c5ac842ccccdfb16cff9b2312df3720748f01a69e"
   }
  }
 },
 "nbformat": 4,
 "nbformat_minor": 2
}
